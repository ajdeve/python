{
 "cells": [
  {
   "cell_type": "markdown",
   "metadata": {},
   "source": [
    "1323. Maximum 69 Number"
   ]
  },
  {
   "cell_type": "code",
   "execution_count": 23,
   "metadata": {},
   "outputs": [
    {
     "data": {
      "text/plain": [
       "'9969'"
      ]
     },
     "execution_count": 23,
     "metadata": {},
     "output_type": "execute_result"
    }
   ],
   "source": [
    "num = 9669\n",
    "def maximum69Number (num):\n",
    "    num = str(num)\n",
    "    answer = num.replace('6','9',1)\n",
    "    return answer \n",
    "\n",
    "maximum69Number(num)"
   ]
  },
  {
   "cell_type": "code",
   "execution_count": 75,
   "metadata": {
    "scrolled": false
   },
   "outputs": [
    {
     "name": "stdout",
     "output_type": "stream",
     "text": [
      "gin\n",
      "zen\n",
      "gig\n",
      "msg\n",
      "gin\n",
      "zen\n",
      "gig\n",
      "msg\n",
      "gin\n",
      "zen\n",
      "gig\n",
      "msg\n",
      "gin\n",
      "zen\n",
      "gig\n",
      "msg\n"
     ]
    },
    {
     "data": {
      "text/plain": [
       "[None,\n",
       " None,\n",
       " None,\n",
       " None,\n",
       " None,\n",
       " None,\n",
       " None,\n",
       " None,\n",
       " None,\n",
       " None,\n",
       " None,\n",
       " None,\n",
       " None,\n",
       " None,\n",
       " None,\n",
       " None]"
      ]
     },
     "execution_count": 75,
     "metadata": {},
     "output_type": "execute_result"
    }
   ],
   "source": [
    "words = [\"gin\", \"zen\", \"gig\", \"msg\"]\n",
    "def uniqueMorseRepresentations(words):\n",
    "    a = []\n",
    "    translated = [\".-\",\"-...\",\"-.-.\",\"-..\",\".\",\"..-.\",\"--.\",\"....\",\"..\",\".---\",\"-.-\",\".-..\",\"--\",\"-.\",\"---\",\".--.\",\"--.-\",\".-.\",\"...\",\"-\",\"..-\",\"...-\",\".--\",\"-..-\",\"-.--\",\"--..\"]\n",
    "    alpabet = ['a', 'b', 'c', 'd', 'e', 'f', 'g', 'h', 'i', 'j', 'k', 'l', 'm', 'n', 'o', 'p', 'q', 'r', 's', 't', 'u', 'v', 'w', 'x', 'y', 'z']\n",
    "    d = dict(zip (alpabet, translated))\n",
    "    for i in range(len(words)):\n",
    "        for j in range(len(words[i])+1):\n",
    "            print(words[j])\n",
    "            a.append(d.get(j))\n",
    "    return a\n",
    "uniqueMorseRepresentations(words)"
   ]
  },
  {
   "cell_type": "code",
   "execution_count": 101,
   "metadata": {},
   "outputs": [
    {
     "name": "stdout",
     "output_type": "stream",
     "text": [
      "g\n",
      "i\n",
      "n\n",
      "z\n",
      "e\n",
      "n\n",
      "g\n",
      "i\n",
      "g\n",
      "m\n",
      "s\n",
      "g\n"
     ]
    },
    {
     "data": {
      "text/plain": [
       "[]"
      ]
     },
     "execution_count": 101,
     "metadata": {},
     "output_type": "execute_result"
    }
   ],
   "source": [
    "words = [\"gin\", \"zen\", \"gig\", \"msg\"]\n",
    "def uniqueMorseRepresentations(words):\n",
    "    a = []\n",
    "    b = []\n",
    "    translated = [\".-\",\"-...\",\"-.-.\",\"-..\",\".\",\"..-.\",\"--.\",\"....\",\"..\",\".---\",\"-.-\",\".-..\",\"--\",\"-.\",\"---\",\".--.\",\"--.-\",\".-.\",\"...\",\"-\",\"..-\",\"...-\",\".--\",\"-..-\",\"-.--\",\"--..\"]\n",
    "    alpabet = ['a', 'b', 'c', 'd', 'e', 'f', 'g', 'h', 'i', 'j', 'k', 'l', 'm', 'n', 'o', 'p', 'q', 'r', 's', 't', 'u', 'v', 'w', 'x', 'y', 'z']\n",
    "    d = dict(zip (alpabet, translated))\n",
    "    for word in words:\n",
    "        for i in word:\n",
    "            print(i)\n",
    "#         for i in word:\n",
    "#             a.append(d.get(i))\n",
    "#         b.append(a)\n",
    "    return b\n",
    "uniqueMorseRepresentations(words)"
   ]
  },
  {
   "cell_type": "code",
   "execution_count": 43,
   "metadata": {},
   "outputs": [
    {
     "data": {
      "text/plain": [
       "'apbqrs'"
      ]
     },
     "execution_count": 43,
     "metadata": {},
     "output_type": "execute_result"
    }
   ],
   "source": [
    "word1 = \"ab\"\n",
    "word2 = \"pqrs\"\n",
    "def mergeAlternately(word1,word2):\n",
    "    answer = []\n",
    "    word1 = [word for word in word1]\n",
    "    word2 = [word for word in word2]\n",
    "    if len(word1) == len(word2):\n",
    "        for i in range(len(word1)):\n",
    "            answer.append(word1[i] + word2[i])\n",
    "    elif len(word1) > len(word2):\n",
    "        for i in range(len(word2)):\n",
    "            answer.append(word1[i] + word2[i])\n",
    "        for j in reversed(range(1,len(word1)-len(word2)+1)):\n",
    "            answer.append(word1[-j])\n",
    "    elif len(word1) < len(word2):\n",
    "        for i in range(len(word1)):\n",
    "            answer.append(word1[i] + word2[i])\n",
    "        for j in reversed(range(1,len(word2)-len(word1)+1)):\n",
    "            answer.append(word2[-j])\n",
    "    answer = \"\".join(answer)\n",
    "    return answer\n",
    "mergeAlternately(word1,word2)"
   ]
  },
  {
   "cell_type": "code",
   "execution_count": 51,
   "metadata": {},
   "outputs": [
    {
     "data": {
      "text/plain": [
       "'apbqrs'"
      ]
     },
     "execution_count": 51,
     "metadata": {},
     "output_type": "execute_result"
    }
   ],
   "source": [
    "from itertools import zip_longest \n",
    "\n",
    "word1 = \"ab\"\n",
    "word2 = \"pqrs\"\n",
    "def mergeAlternately(word1, word2):\n",
    "    return ''.join(a + b for a, b in zip_longest(word1, word2, fillvalue=''))\n",
    "mergeAlternately(word1, word2)"
   ]
  },
  {
   "cell_type": "markdown",
   "metadata": {},
   "important source": [
    "https://www.geeksforgeeks.org/python-itertools-zip_longest/"
   ]
  },
  {
   "cell_type": "code",
   "execution_count": 55,
   "metadata": {},
   "outputs": [
    {
     "data": {
      "text/plain": [
       "'Sao Paulo'"
      ]
     },
     "execution_count": 55,
     "metadata": {},
     "output_type": "execute_result"
    }
   ],
   "source": [
    "paths = [[\"London\",\"New York\"],[\"New York\",\"Lima\"],[\"Lima\",\"Sao Paulo\"]]\n",
    "def destCity(paths): \n",
    "    start = set() \n",
    "    destination = set() \n",
    "    #starting point add in a start set\n",
    "    #destination poin add in a destination set\n",
    "    for path in paths: \n",
    "        start.add(path[0]) \n",
    "        # \"New York\"\t\"Lima\"\t\"London\"\n",
    "        destination.add(path[1]) \n",
    "        # \"New York\"\t\"Lima\"\t\"Sao Paulo\"\n",
    "    return list(destination-start)[0]\n",
    "destCity(paths)\n"
   ]
  },
  {
   "cell_type": "code",
   "execution_count": 58,
   "metadata": {},
   "outputs": [
    {
     "data": {
      "text/plain": [
       "'Sao Paulo'"
      ]
     },
     "execution_count": 58,
     "metadata": {},
     "output_type": "execute_result"
    }
   ],
   "source": [
    "def destCity(paths) -> str:\n",
    "        A, B = map(set, zip(*paths))\n",
    "        return (B - A).pop()\n",
    "destCity(paths)"
   ]
  },
  {
   "cell_type": "markdown",
   "metadata": {},
   "source": [
    "1704. Determine if String Halves Are Alike"
   ]
  },
  {
   "cell_type": "code",
   "execution_count": 81,
   "metadata": {},
   "outputs": [
    {
     "data": {
      "text/plain": [
       "True"
      ]
     },
     "execution_count": 81,
     "metadata": {},
     "output_type": "execute_result"
    }
   ],
   "source": [
    "s = \"book\"\n",
    "def halvesAreAlike(s):\n",
    "    count1 = 0\n",
    "    count2 = 0\n",
    "    vowels=['a', 'e', 'i', 'o', 'u', 'A', 'E', 'I', 'O', 'U']\n",
    "    firstpart, secondpart = s[:len(s)//2], s[len(s)//2:]\n",
    "    for i in firstpart:\n",
    "        if i in vowels:\n",
    "            count1+=1\n",
    "    for j in secondpart:\n",
    "        if j in vowels:\n",
    "            count2+=1\n",
    "    return bool(count1==count2)\n",
    "halvesAreAlike(s)"
   ]
  },
  {
   "cell_type": "code",
   "execution_count": 82,
   "metadata": {},
   "outputs": [],
   "source": [
    "def halvesAreAlike(self, s: str) -> bool:\n",
    "        v = set('aioeuAIOEU')\n",
    "        i = 0\n",
    "        a, b=0, 0\n",
    "        for i in range(len(s)//2):\n",
    "            if s[i] in v:\n",
    "                a+=1\n",
    "            if s[-i-1] in v:\n",
    "                b+=1\n",
    "        return a==b"
   ]
  },
  {
   "cell_type": "markdown",
   "metadata": {},
   "source": [
    "1450. Number of Students Doing Homework at a Given Time\n"
   ]
  },
  {
   "cell_type": "code",
   "execution_count": 96,
   "metadata": {},
   "outputs": [
    {
     "data": {
      "text/plain": [
       "1"
      ]
     },
     "execution_count": 96,
     "metadata": {},
     "output_type": "execute_result"
    }
   ],
   "source": [
    "startTime = [1,2,3]\n",
    "endTime = [3,2,7]\n",
    "queryTime = 4\n",
    "def busyStudent(startTime, endTime, queryTime):\n",
    "    result = list(zip(startTime,endTime))\n",
    "    count = 0\n",
    "    for i in result:\n",
    "        if i[0] <= queryTime <= i[1]:\n",
    "            count+=1\n",
    "            \n",
    "    return count\n",
    "busyStudent(startTime, endTime, queryTime)"
   ]
  },
  {
   "cell_type": "code",
   "execution_count": 102,
   "metadata": {},
   "outputs": [
    {
     "ename": "NameError",
     "evalue": "name 'List' is not defined",
     "output_type": "error",
     "traceback": [
      "\u001b[1;31m---------------------------------------------------------------------------\u001b[0m",
      "\u001b[1;31mNameError\u001b[0m                                 Traceback (most recent call last)",
      "\u001b[1;32m<ipython-input-102-a8a71c319e9b>\u001b[0m in \u001b[0;36m<module>\u001b[1;34m\u001b[0m\n\u001b[1;32m----> 1\u001b[1;33m \u001b[1;32mdef\u001b[0m \u001b[0mbusyStudent\u001b[0m\u001b[1;33m(\u001b[0m\u001b[0mself\u001b[0m\u001b[1;33m,\u001b[0m \u001b[0mstartTime\u001b[0m\u001b[1;33m:\u001b[0m \u001b[0mList\u001b[0m\u001b[1;33m[\u001b[0m\u001b[0mint\u001b[0m\u001b[1;33m]\u001b[0m\u001b[1;33m,\u001b[0m \u001b[0mendTime\u001b[0m\u001b[1;33m:\u001b[0m \u001b[0mList\u001b[0m\u001b[1;33m[\u001b[0m\u001b[0mint\u001b[0m\u001b[1;33m]\u001b[0m\u001b[1;33m,\u001b[0m \u001b[0mqueryTime\u001b[0m\u001b[1;33m:\u001b[0m \u001b[0mint\u001b[0m\u001b[1;33m)\u001b[0m \u001b[1;33m->\u001b[0m \u001b[0mint\u001b[0m\u001b[1;33m:\u001b[0m\u001b[1;33m\u001b[0m\u001b[1;33m\u001b[0m\u001b[0m\n\u001b[0m\u001b[0;32m      2\u001b[0m     \u001b[1;32mreturn\u001b[0m \u001b[0msum\u001b[0m\u001b[1;33m(\u001b[0m\u001b[0ms\u001b[0m \u001b[1;33m<=\u001b[0m \u001b[0mqueryTime\u001b[0m \u001b[1;33m<=\u001b[0m \u001b[0me\u001b[0m \u001b[1;32mfor\u001b[0m \u001b[0ms\u001b[0m\u001b[1;33m,\u001b[0m \u001b[0me\u001b[0m \u001b[1;32min\u001b[0m \u001b[0mzip\u001b[0m\u001b[1;33m(\u001b[0m\u001b[0mstartTime\u001b[0m\u001b[1;33m,\u001b[0m \u001b[0mendTime\u001b[0m\u001b[1;33m)\u001b[0m\u001b[1;33m)\u001b[0m\u001b[1;33m\u001b[0m\u001b[1;33m\u001b[0m\u001b[0m\n",
      "\u001b[1;31mNameError\u001b[0m: name 'List' is not defined"
     ]
    }
   ],
   "source": [
    "def busyStudent(self, startTime: List[int], endTime: List[int], queryTime: int) -> int:\n",
    "    return sum(s <= queryTime <= e for s, e in zip(startTime, endTime))"
   ]
  },
  {
   "cell_type": "code",
   "execution_count": null,
   "metadata": {},
   "outputs": [],
   "source": [
    "n = 5\n",
    "def sumZero(n):\n",
    "    target = 0\n",
    "    for in \n",
    "    return\n",
    "sumZero(n)"
   ]
  }
 ],
 "metadata": {
  "kernelspec": {
   "display_name": "Python 3",
   "language": "python",
   "name": "python3"
  },
  "language_info": {
   "codemirror_mode": {
    "name": "ipython",
    "version": 3
   },
   "file_extension": ".py",
   "mimetype": "text/x-python",
   "name": "python",
   "nbconvert_exporter": "python",
   "pygments_lexer": "ipython3",
   "version": "3.8.5"
  }
 },
 "nbformat": 4,
 "nbformat_minor": 4
}
