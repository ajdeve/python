{
 "cells": [
  {
   "cell_type": "markdown",
   "metadata": {},
   "source": [
    "##  Count Items Matching a Rule"
   ]
  },
  {
   "cell_type": "markdown",
   "metadata": {},
   "source": [
    "### My Solution"
   ]
  },
  {
   "cell_type": "code",
   "execution_count": 97,
   "metadata": {},
   "outputs": [],
   "source": [
    "items = [[\"phone\",\"blue\",\"pixel\"],[\"computer\",\"silver\",\"lenovo\"],[\"phone\",\"gold\",\"iphone\"]]\n",
    "ruleKey = \"color\"\n",
    "ruleValue = \"silver\"\n",
    "\n",
    "class Solution:\n",
    "    def countMatches(self, items,  ruleKey, ruleValue) -> int:\n",
    "        i = 0 \n",
    "        for type, color, name in items:\n",
    "            if ruleKey == 'type' and type == ruleValue:\n",
    "                i +=1\n",
    "            elif ruleKey == 'color' and color == ruleValue:\n",
    "                i +=1\n",
    "            elif ruleKey == 'name' and name == ruleValue:\n",
    "                i +=1\n",
    "        return i\n"
   ]
  },
  {
   "cell_type": "markdown",
   "metadata": {},
   "source": [
    "### Other Solutions"
   ]
  },
  {
   "cell_type": "code",
   "execution_count": 96,
   "metadata": {},
   "outputs": [],
   "source": [
    "class Solution: \n",
    "    def countMatches(self, items, ruleKey, ruleValue) -> int:\n",
    "        rule = {'type' : 0, 'color' : 1, 'name' : 2}\n",
    "        cnt = 0\n",
    "        for item in items:\n",
    "            if item[rule[ruleKey]] == ruleValue:\n",
    "                cnt += 1\n",
    "        return cnt"
   ]
  },
  {
   "cell_type": "code",
   "execution_count": null,
   "metadata": {},
   "outputs": [],
   "source": [
    " def countMatches(self, items: List[List[str]], ruleKey: str, ruleValue: str) -> int:\n",
    "        return sum((ruleKey, ruleValue) in ((\"type\", t), (\"color\", c), (\"name\", n)) for t, c, n in items)"
   ]
  }
 ],
 "metadata": {
  "kernelspec": {
   "display_name": "Python 3",
   "language": "python",
   "name": "python3"
  },
  "language_info": {
   "codemirror_mode": {
    "name": "ipython",
    "version": 3
   },
   "file_extension": ".py",
   "mimetype": "text/x-python",
   "name": "python",
   "nbconvert_exporter": "python",
   "pygments_lexer": "ipython3",
   "version": "3.8.5"
  }
 },
 "nbformat": 4,
 "nbformat_minor": 4
}
