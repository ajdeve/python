{
 "cells": [
  {
   "cell_type": "markdown",
   "metadata": {},
   "source": [
    "1678. Goal Parser Interpretation"
   ]
  },
  {
   "cell_type": "code",
   "execution_count": 9,
   "metadata": {},
   "outputs": [
    {
     "data": {
      "text/plain": [
       "'Goal'"
      ]
     },
     "execution_count": 9,
     "metadata": {},
     "output_type": "execute_result"
    }
   ],
   "source": [
    "command = \"G()(al)\"\n",
    "def interpret(command):\n",
    "    cmd = command.replace('()','o')\n",
    "    cmd = cmd.replace('(al)', 'al')\n",
    "    return cmd\n",
    "interpret(command)"
   ]
  },
  {
   "cell_type": "code",
   "execution_count": 51,
   "metadata": {},
   "outputs": [
    {
     "name": "stdout",
     "output_type": "stream",
     "text": [
      "['R', 'L', 'R', 'R', 'L', 'L', 'R', 'L', 'R', 'L']\n",
      "10\n",
      "4\n",
      "5\n",
      "5\n",
      "['', 'R', 'L', '', '']\n"
     ]
    }
   ],
   "source": [
    "s = \"RLRRLLRLRL\"\n",
    "countr = s.count('R')\n",
    "countl = s.count('L')\n",
    "count = s.count('RL')\n",
    "words = [char for char in s]\n",
    "print(words)\n",
    "print(len(s))\n",
    "print(count)\n",
    "print(countl)\n",
    "print(countr)\n",
    "print(s.split('RL'))"
   ]
  },
  {
   "cell_type": "code",
   "execution_count": 55,
   "metadata": {},
   "outputs": [
    {
     "data": {
      "text/plain": [
       "4"
      ]
     },
     "execution_count": 55,
     "metadata": {},
     "output_type": "execute_result"
    }
   ],
   "source": [
    "s = \"RLRRLLRLRL\"\n",
    "def balancedStringSplit(s):\n",
    "    check = {'R':0,'L':0}\n",
    "    count = 0\n",
    "    for word in s:\n",
    "        check[word] +=1\n",
    "        if check['R']==check['L']:\n",
    "            count+=1\n",
    "            #초기화\n",
    "            check['R'] = 0\n",
    "            check['L']= 0\n",
    "    return count\n",
    "balancedStringSplit(s)\n",
    "\n"
   ]
  },
  {
   "cell_type": "code",
   "execution_count": 56,
   "metadata": {},
   "outputs": [
    {
     "data": {
      "text/plain": [
       "4"
      ]
     },
     "execution_count": 56,
     "metadata": {},
     "output_type": "execute_result"
    }
   ],
   "source": [
    "def balancedStringSplit(s):\n",
    "    res = cnt = 0         \n",
    "    for c in s:\n",
    "        #밸런스가 맞으면 결국 cnt = 0이 될 수 있게 L, R가 +1, -1을 뜻함\n",
    "        cnt += 1 if c == 'L' else -1            \n",
    "        #밸런스가 맞으면 결과에 1을 더함\n",
    "        if cnt == 0:\n",
    "            res += 1\n",
    "    return res  \n",
    "balancedStringSplit(s)"
   ]
  },
  {
   "cell_type": "markdown",
   "metadata": {},
   "source": [
    "https://velog.io/@kameals/golang-LeetCode-1221.-Split-a-String-in-Balanced-Strings"
   ]
  },
  {
   "cell_type": "code",
   "execution_count": 57,
   "metadata": {},
   "outputs": [
    {
     "name": "stdout",
     "output_type": "stream",
     "text": [
      "['R', 'L', 'R', 'R', 'L', 'L', 'R', 'L', 'R', 'L']\n"
     ]
    }
   ],
   "source": [
    "import re\n",
    "s = \"RLRRLLRLRL\"\n",
    "print (re.findall(r\"['RL']\", s))"
   ]
  },
  {
   "cell_type": "markdown",
   "metadata": {},
   "source": [
    "1662. Check If Two String Arrays are Equivalent\n"
   ]
  },
  {
   "cell_type": "code",
   "execution_count": 59,
   "metadata": {},
   "outputs": [],
   "source": [
    "word1 = [\"ab\", \"c\"]\n",
    "word2 = [\"a\", \"bc\"]"
   ]
  },
  {
   "cell_type": "code",
   "execution_count": 61,
   "metadata": {},
   "outputs": [
    {
     "data": {
      "text/plain": [
       "True"
      ]
     },
     "execution_count": 61,
     "metadata": {},
     "output_type": "execute_result"
    }
   ],
   "source": [
    "def arrayStringsAreEqual(word1, word2):\n",
    "    a = \"\".join(word1)\n",
    "    b = \"\".join(word2)\n",
    "    if a == b:\n",
    "        return True\n",
    "\n",
    "arrayStringsAreEqual(word1, word2)\n"
   ]
  },
  {
   "cell_type": "code",
   "execution_count": 68,
   "metadata": {},
   "outputs": [
    {
     "data": {
      "text/plain": [
       "[1, 4]"
      ]
     },
     "execution_count": 68,
     "metadata": {},
     "output_type": "execute_result"
    }
   ],
   "source": [
    "nums = [1,2,3,4]\n",
    "def decompressRLElist(nums):    \n",
    "    return nums[::3]\n",
    "decompressRLElist(nums)\n"
   ]
  }
 ],
 "metadata": {
  "kernelspec": {
   "display_name": "Python 3",
   "language": "python",
   "name": "python3"
  },
  "language_info": {
   "codemirror_mode": {
    "name": "ipython",
    "version": 3
   },
   "file_extension": ".py",
   "mimetype": "text/x-python",
   "name": "python",
   "nbconvert_exporter": "python",
   "pygments_lexer": "ipython3",
   "version": "3.8.5"
  }
 },
 "nbformat": 4,
 "nbformat_minor": 4
}
