{
 "cells": [
  {
   "cell_type": "markdown",
   "metadata": {},
   "source": [
    "1678. Goal Parser Interpretation"
   ]
  },
  {
   "cell_type": "code",
   "execution_count": 9,
   "metadata": {},
   "outputs": [
    {
     "data": {
      "text/plain": [
       "'Goal'"
      ]
     },
     "execution_count": 9,
     "metadata": {},
     "output_type": "execute_result"
    }
   ],
   "source": [
    "command = \"G()(al)\"\n",
    "def interpret(command):\n",
    "    cmd = command.replace('()','o')\n",
    "    cmd = cmd.replace('(al)', 'al')\n",
    "    return cmd\n",
    "interpret(command)"
   ]
  },
  {
   "cell_type": "code",
   "execution_count": 51,
   "metadata": {},
   "outputs": [
    {
     "name": "stdout",
     "output_type": "stream",
     "text": [
      "['R', 'L', 'R', 'R', 'L', 'L', 'R', 'L', 'R', 'L']\n",
      "10\n",
      "4\n",
      "5\n",
      "5\n",
      "['', 'R', 'L', '', '']\n"
     ]
    }
   ],
   "source": [
    "s = \"RLRRLLRLRL\"\n",
    "countr = s.count('R')\n",
    "countl = s.count('L')\n",
    "count = s.count('RL')\n",
    "words = [char for char in s]\n",
    "print(words)\n",
    "print(len(s))\n",
    "print(count)\n",
    "print(countl)\n",
    "print(countr)\n",
    "print(s.split('RL'))"
   ]
  },
  {
   "cell_type": "code",
   "execution_count": 55,
   "metadata": {},
   "outputs": [
    {
     "data": {
      "text/plain": [
       "4"
      ]
     },
     "execution_count": 55,
     "metadata": {},
     "output_type": "execute_result"
    }
   ],
   "source": [
    "s = \"RLRRLLRLRL\"\n",
    "def balancedStringSplit(s):\n",
    "    check = {'R':0,'L':0}\n",
    "    count = 0\n",
    "    for word in s:\n",
    "        check[word] +=1\n",
    "        if check['R']==check['L']:\n",
    "            count+=1\n",
    "            #초기화\n",
    "            check['R'] = 0\n",
    "            check['L']= 0\n",
    "    return count\n",
    "balancedStringSplit(s)\n",
    "\n"
   ]
  },
  {
   "cell_type": "code",
   "execution_count": 56,
   "metadata": {},
   "outputs": [
    {
     "data": {
      "text/plain": [
       "4"
      ]
     },
     "execution_count": 56,
     "metadata": {},
     "output_type": "execute_result"
    }
   ],
   "source": [
    "def balancedStringSplit(s):\n",
    "    res = cnt = 0         \n",
    "    for c in s:\n",
    "        #밸런스가 맞으면 결국 cnt = 0이 될 수 있게 L, R가 +1, -1을 뜻함\n",
    "        cnt += 1 if c == 'L' else -1            \n",
    "        #밸런스가 맞으면 결과에 1을 더함\n",
    "        if cnt == 0:\n",
    "            res += 1\n",
    "    return res  \n",
    "balancedStringSplit(s)"
   ]
  },
  {
   "cell_type": "markdown",
   "metadata": {},
   "source": [
    "https://velog.io/@kameals/golang-LeetCode-1221.-Split-a-String-in-Balanced-Strings"
   ]
  },
  {
   "cell_type": "code",
   "execution_count": 57,
   "metadata": {},
   "outputs": [
    {
     "name": "stdout",
     "output_type": "stream",
     "text": [
      "['R', 'L', 'R', 'R', 'L', 'L', 'R', 'L', 'R', 'L']\n"
     ]
    }
   ],
   "source": [
    "import re\n",
    "s = \"RLRRLLRLRL\"\n",
    "print (re.findall(r\"['RL']\", s))"
   ]
  },
  {
   "cell_type": "markdown",
   "metadata": {},
   "source": [
    "1662. Check If Two String Arrays are Equivalent\n"
   ]
  },
  {
   "cell_type": "code",
   "execution_count": 59,
   "metadata": {},
   "outputs": [],
   "source": [
    "word1 = [\"ab\", \"c\"]\n",
    "word2 = [\"a\", \"bc\"]"
   ]
  },
  {
   "cell_type": "code",
   "execution_count": 61,
   "metadata": {},
   "outputs": [
    {
     "data": {
      "text/plain": [
       "True"
      ]
     },
     "execution_count": 61,
     "metadata": {},
     "output_type": "execute_result"
    }
   ],
   "source": [
    "def arrayStringsAreEqual(word1, word2):\n",
    "    a = \"\".join(word1)\n",
    "    b = \"\".join(word2)\n",
    "    if a == b:\n",
    "        return True\n",
    "\n",
    "arrayStringsAreEqual(word1, word2)\n"
   ]
  },
  {
   "cell_type": "code",
   "execution_count": 45,
   "metadata": {},
   "outputs": [
    {
     "data": {
      "text/plain": [
       "['2', '4', '4', '4']"
      ]
     },
     "execution_count": 45,
     "metadata": {},
     "output_type": "execute_result"
    }
   ],
   "source": [
    "nums = [1,2,3,4]\n",
    "\n",
    "import itertools\n",
    "def decompressRLElist(nums):\n",
    "    answer = []\n",
    "    if len(nums)<=2:\n",
    "        list1 = nums[:2:]\n",
    "        freq1 = list1[0]\n",
    "        val1 = list1[1]\n",
    "        words1 = [char for char in str(val1)*freq1]\n",
    "        answer.append(words1)    \n",
    "    \n",
    "    else:\n",
    "        list1 = nums[:2:]\n",
    "        freq1 = list1[0]\n",
    "        val1 = list1[1]\n",
    "        words1 = [char for char in str(val1)*freq1]\n",
    "        answer.append(words1)\n",
    "\n",
    "        list2 = nums[2::]\n",
    "        freq2 = list2[0]\n",
    "        val2 = list2[1]\n",
    "        words2 = [char for char in str(val2)*freq2]\n",
    "        answer.append(words2)\n",
    "    merged = list(itertools.chain(*answer))\n",
    "    return merged\n",
    "decompressRLElist(nums)\n"
   ]
  },
  {
   "cell_type": "code",
   "execution_count": 47,
   "metadata": {},
   "outputs": [
    {
     "data": {
      "text/plain": [
       "[1, 2]"
      ]
     },
     "execution_count": 47,
     "metadata": {},
     "output_type": "execute_result"
    }
   ],
   "source": [
    "nums[1::2]\n",
    "nums[::2]\n",
    "nums[::2]\n",
    "\n",
    "nums[:2:]"
   ]
  },
  {
   "cell_type": "code",
   "execution_count": 56,
   "metadata": {},
   "outputs": [
    {
     "data": {
      "text/plain": [
       "'4444'"
      ]
     },
     "execution_count": 56,
     "metadata": {},
     "output_type": "execute_result"
    }
   ],
   "source": [
    "nums = [1,2,3,4]\n",
    "import numpy as np \n",
    "def decompressRLElist(nums):\n",
    "    for i in range(len(nums)):\n",
    "        s = str(nums[i])*nums[i]\n",
    "    return s\n",
    "decompressRLElist(nums)"
   ]
  },
  {
   "cell_type": "code",
   "execution_count": 64,
   "metadata": {},
   "outputs": [
    {
     "data": {
      "text/plain": [
       "['2', '4', '4', '4']"
      ]
     },
     "execution_count": 64,
     "metadata": {},
     "output_type": "execute_result"
    }
   ],
   "source": [
    "nums = [1,2,3,4]\n",
    "def decompressRLElist(nums):\n",
    "    if len(nums)<=2:\n",
    "        s = nums[0]*[str(nums[1])]\n",
    "    else: \n",
    "        for i in range(1):\n",
    "            s = nums[i]*[str(nums[i-3])]\n",
    "        for i in range(2,3):\n",
    "            s2 = nums[i]*[str(nums[i-3])]\n",
    "        s = s+s2\n",
    "    return s\n",
    "decompressRLElist(nums)"
   ]
  },
  {
   "cell_type": "code",
   "execution_count": 71,
   "metadata": {},
   "outputs": [
    {
     "name": "stdout",
     "output_type": "stream",
     "text": [
      "3\n"
     ]
    }
   ],
   "source": [
    "nums = [1,2,3,4]\n",
    "class Solution:\n",
    "    def decompressRLElist(nums):\n",
    "        decompressed = []\n",
    "        # for every two items (0,3,2)\n",
    "        for i in range(0, len(nums)-1, 2):\n",
    "            # 0 -> 1 * nums[1] \n",
    "            # 2 -> 3\n",
    "            decompressed = decompressed + nums[i] * [nums[i+1]]\n",
    "        return decompressed\n",
    "decompressRLElist(nums)"
   ]
  },
  {
   "cell_type": "markdown",
   "metadata": {},
   "source": [
    "1588. Sum of All Odd Length Subarrays"
   ]
  },
  {
   "cell_type": "code",
   "execution_count": 73,
   "metadata": {},
   "outputs": [],
   "source": [
    "arr = [1,4,2,5,3]"
   ]
  },
  {
   "cell_type": "code",
   "execution_count": 102,
   "metadata": {},
   "outputs": [
    {
     "data": {
      "text/plain": [
       "58"
      ]
     },
     "execution_count": 102,
     "metadata": {},
     "output_type": "execute_result"
    }
   ],
   "source": [
    "\n",
    "def sumOddLengthSubarrays(arr):\n",
    "    # 주어진 리스트에 가능한 홀수 갯수\n",
    "    odd = []\n",
    "    answer = []\n",
    "    for num in range(len(arr)+1):\n",
    "        if num%2 != 0:\n",
    "            odd.append(num)\n",
    "    for n in odd:\n",
    "        permutations = (arr[j:j + n] for j in range(0, len(arr) - (n - 1)))\n",
    "        answer.append(list(permutations))\n",
    "    flat_list = []\n",
    "    for sublist in answer:\n",
    "        for item in sublist:\n",
    "            for subitem in item:\n",
    "                flat_list.append(subitem)\n",
    "    return sum(flat_list)\n",
    "\n",
    "sumOddLengthSubarrays(arr)"
   ]
  },
  {
   "cell_type": "markdown",
   "metadata": {},
   "source": [
    "https://web.stanford.edu/class/cs9/sample_probs/SubarraySums.pdf"
   ]
  },
  {
   "cell_type": "code",
   "execution_count": 101,
   "metadata": {},
   "outputs": [],
   "source": [
    "def sumOddLengthSubarrays(arr):\n",
    "    n = len(A)\n",
    "    res = 0\n",
    "    for l in xrange(1, n + 1, 2):\n",
    "        for i in xrange(n - l + 1):\n",
    "            res += sum(A[i:i + l])\n",
    "        return res"
   ]
  },
  {
   "cell_type": "code",
   "execution_count": 103,
   "metadata": {},
   "outputs": [],
   "source": [
    "def sumOddLengthSubarrays(arr):\n",
    "    return sum(sum(A[i:i + l]) for l in xrange(1, 100, 2) for i in xrange(len(A) - l + 1))\n"
   ]
  },
  {
   "cell_type": "code",
   "execution_count": null,
   "metadata": {},
   "outputs": [],
   "source": [
    "arr = [1,4,2,5,3]\n",
    "def sumOddLengthSubarrays(arr):\n",
    "    s=0\n",
    "    for i in range(len(arr)):\n",
    "        for j in range(i,len(arr),2):\n",
    "            s+=sum(arr[i:j+1])\n",
    "    return s"
   ]
  }
 ],
 "metadata": {
  "kernelspec": {
   "display_name": "Python 3",
   "language": "python",
   "name": "python3"
  },
  "language_info": {
   "codemirror_mode": {
    "name": "ipython",
    "version": 3
   },
   "file_extension": ".py",
   "mimetype": "text/x-python",
   "name": "python",
   "nbconvert_exporter": "python",
   "pygments_lexer": "ipython3",
   "version": "3.8.5"
  }
 },
 "nbformat": 4,
 "nbformat_minor": 4
}
