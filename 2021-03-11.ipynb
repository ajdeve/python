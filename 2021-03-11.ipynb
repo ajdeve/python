{
 "cells": [
  {
   "cell_type": "markdown",
   "metadata": {},
   "source": [
    "657\t\n",
    "Robot Return to Origin    "
   ]
  },
  {
   "cell_type": "code",
   "execution_count": 8,
   "metadata": {},
   "outputs": [
    {
     "name": "stdout",
     "output_type": "stream",
     "text": [
      "2\n"
     ]
    },
    {
     "data": {
      "text/plain": [
       "False"
      ]
     },
     "execution_count": 8,
     "metadata": {},
     "output_type": "execute_result"
    }
   ],
   "source": [
    "moves = \"RR\"\n",
    "def judgeCircle(moves):\n",
    "    count = 0\n",
    "    count2 = 0 \n",
    "    for i in moves:\n",
    "        if i == 'U':\n",
    "            count +=1\n",
    "        elif i == 'D':\n",
    "            count -=1\n",
    "        elif i == 'R':\n",
    "            count2 +=1\n",
    "        elif i == 'L':\n",
    "            count2 -=1\n",
    "    print(count2)\n",
    "    return bool(count == 0 and count2 == 0)\n",
    "\n",
    "judgeCircle(moves)"
   ]
  },
  {
   "cell_type": "code",
   "execution_count": 9,
   "metadata": {},
   "outputs": [],
   "source": [
    "def judgeCircle(self, moves):\n",
    "    return moves.count('L') == moves.count('R') and moves.count('U') == moves.count('D')"
   ]
  },
  {
   "cell_type": "code",
   "execution_count": 38,
   "metadata": {},
   "outputs": [
    {
     "name": "stdout",
     "output_type": "stream",
     "text": [
      "[1, 1, 1, 1, 2, 2, 2, 2]\n"
     ]
    },
    {
     "data": {
      "text/plain": [
       "4"
      ]
     },
     "execution_count": 38,
     "metadata": {},
     "output_type": "execute_result"
    }
   ],
   "source": [
    "heights = [2,1,2,1,1,2,2,1]\n",
    "def heightChecker(heights):\n",
    "    count=0\n",
    "    orderedh = sorted(heights)\n",
    "    print(orderedh)\n",
    "    merged = tuple(zip(heights,orderedh))\n",
    "    for key, value in merged:\n",
    "        if key != value:\n",
    "            count+=1\n",
    "    return count\n",
    "heightChecker(heights)"
   ]
  },
  {
   "cell_type": "code",
   "execution_count": null,
   "metadata": {},
   "outputs": [],
   "source": [
    "https://www.geeksforgeeks.org/python-all-possible-pairs-in-list/"
   ]
  },
  {
   "cell_type": "code",
   "execution_count": 73,
   "metadata": {},
   "outputs": [
    {
     "name": "stdout",
     "output_type": "stream",
     "text": [
      "{(1, 2), (4, 3), (4, 2), (1, 4), (3, 2), (1, 3)}\n",
      "[1, 3, 2, 1, 2, 1]\n",
      "{(1, 2), (2, 1), (3, 1), (1, 1), (2, 2), (3, 2), (1, 3)}\n",
      "[3]\n",
      "[3, 3]\n",
      "[3, 3, 4]\n",
      "[3, 3, 4, 2]\n",
      "[3, 3, 4, 2, 4]\n",
      "[3, 3, 4, 2, 4, 5]\n",
      "[3, 3, 4, 2, 4, 5, 4]\n"
     ]
    },
    {
     "data": {
      "text/plain": [
       "5"
      ]
     },
     "execution_count": 73,
     "metadata": {},
     "output_type": "execute_result"
    }
   ],
   "source": [
    "from itertools import combinations\n",
    "nums = [1,4,3,2]\n",
    "def arrayPairSum(nums):\n",
    "    res = set(combinations(nums, 2))\n",
    "    res2 = []\n",
    "    res4 = []\n",
    "    print(res)\n",
    "    for i in res:\n",
    "        res2.append(min(i))\n",
    "    print(res2)\n",
    "    res3 = set(combinations(res2,2))\n",
    "    print(res3)\n",
    "    for i in res3:\n",
    "        res4.append(sum(i))\n",
    "        print(res4)\n",
    "    return max(res4)\n",
    "\n",
    "arrayPairSum(nums)"
   ]
  },
  {
   "cell_type": "code",
   "execution_count": 59,
   "metadata": {},
   "outputs": [
    {
     "data": {
      "text/plain": [
       "True"
      ]
     },
     "execution_count": 59,
     "metadata": {},
     "output_type": "execute_result"
    }
   ],
   "source": [
    "target = [1,2,3,4]\n",
    "arr = [2,4,1,3]\n",
    "\n",
    "def canBeEqual(target,arr):\n",
    "    if len(target)!=len(arr):\n",
    "        return False\n",
    "    dict_cmp={}\n",
    "    for num in target:\n",
    "        if num in dict_cmp:\n",
    "            dict_cmp[num]+=1\n",
    "        else:\n",
    "            dict_cmp[num]=1   \n",
    "    for num in arr:\n",
    "        if num not in dict_cmp:\n",
    "            return False\n",
    "        if dict_cmp[num]==1:\n",
    "            del dict_cmp[num]\n",
    "        else:\n",
    "            dict_cmp[num]-=1\n",
    "        return True\n",
    "canBeEqual(target,arr)"
   ]
  },
  {
   "cell_type": "code",
   "execution_count": 110,
   "metadata": {},
   "outputs": [
    {
     "name": "stdout",
     "output_type": "stream",
     "text": [
      "[(3, 9, 15), (7, 11, 16), (8, 13, 17)]\n"
     ]
    },
    {
     "data": {
      "text/plain": [
       "[15]"
      ]
     },
     "execution_count": 110,
     "metadata": {},
     "output_type": "execute_result"
    }
   ],
   "source": [
    "matrix = [[3,7,8],[9,11,13],[15,16,17]]\n",
    "def luckyNumbers(matrix):\n",
    "    min_n = {min(rows) for rows in matrix}\n",
    "    max_n = {max(columns) for columns in zip(*matrix)} \n",
    "    #transpose matrix \n",
    "    print(list(zip(*matrix)))\n",
    "    return list(min_n & max_n)\n",
    "luckyNumbers(matrix)"
   ]
  },
  {
   "cell_type": "code",
   "execution_count": null,
   "metadata": {},
   "outputs": [],
   "source": []
  },
  {
   "cell_type": "code",
   "execution_count": null,
   "metadata": {},
   "outputs": [],
   "source": []
  },
  {
   "cell_type": "code",
   "execution_count": null,
   "metadata": {},
   "outputs": [],
   "source": []
  }
 ],
 "metadata": {
  "kernelspec": {
   "display_name": "Python 3",
   "language": "python",
   "name": "python3"
  },
  "language_info": {
   "codemirror_mode": {
    "name": "ipython",
    "version": 3
   },
   "file_extension": ".py",
   "mimetype": "text/x-python",
   "name": "python",
   "nbconvert_exporter": "python",
   "pygments_lexer": "ipython3",
   "version": "3.8.5"
  }
 },
 "nbformat": 4,
 "nbformat_minor": 4
}
